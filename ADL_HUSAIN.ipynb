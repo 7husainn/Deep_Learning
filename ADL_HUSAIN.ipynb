{
 "cells": [
  {
   "cell_type": "markdown",
   "metadata": {},
   "source": [
    "HUSAIN SHABBIR BARAMATIWALA\n",
    "230013925"
   ]
  },
  {
   "cell_type": "markdown",
   "metadata": {},
   "source": [
    "***LOADING BOTH THE SHEETS FROM THE GIVEN EXCEL DATA FILE.***"
   ]
  },
  {
   "cell_type": "code",
   "execution_count": 1,
   "metadata": {},
   "outputs": [
    {
     "name": "stderr",
     "output_type": "stream",
     "text": [
      "/var/folders/k8/7fnvl7c15wjdqsd4zks4cz8w0000gn/T/ipykernel_99801/3477857666.py:1: DeprecationWarning: \n",
      "Pyarrow will become a required dependency of pandas in the next major release of pandas (pandas 3.0),\n",
      "(to allow more performant data types, such as the Arrow string type, and better interoperability with other libraries)\n",
      "but was not found to be installed on your system.\n",
      "If this would cause problems for you,\n",
      "please provide us feedback at https://github.com/pandas-dev/pandas/issues/54466\n",
      "        \n",
      "  import pandas as pd\n"
     ]
    },
    {
     "name": "stdout",
     "output_type": "stream",
     "text": [
      "  Invoice StockCode                          Description  Quantity  \\\n",
      "0  489434     85048  15CM CHRISTMAS GLASS BALL 20 LIGHTS        12   \n",
      "1  489434    79323P                   PINK CHERRY LIGHTS        12   \n",
      "2  489434    79323W                  WHITE CHERRY LIGHTS        12   \n",
      "3  489434     22041         RECORD FRAME 7\" SINGLE SIZE         48   \n",
      "4  489434     21232       STRAWBERRY CERAMIC TRINKET BOX        24   \n",
      "\n",
      "          InvoiceDate  Price  Customer ID         Country  \n",
      "0 2009-12-01 07:45:00   6.95      13085.0  United Kingdom  \n",
      "1 2009-12-01 07:45:00   6.75      13085.0  United Kingdom  \n",
      "2 2009-12-01 07:45:00   6.75      13085.0  United Kingdom  \n",
      "3 2009-12-01 07:45:00   2.10      13085.0  United Kingdom  \n",
      "4 2009-12-01 07:45:00   1.25      13085.0  United Kingdom  \n",
      "  Invoice StockCode                          Description  Quantity  \\\n",
      "0  536365    85123A   WHITE HANGING HEART T-LIGHT HOLDER         6   \n",
      "1  536365     71053                  WHITE METAL LANTERN         6   \n",
      "2  536365    84406B       CREAM CUPID HEARTS COAT HANGER         8   \n",
      "3  536365    84029G  KNITTED UNION FLAG HOT WATER BOTTLE         6   \n",
      "4  536365    84029E       RED WOOLLY HOTTIE WHITE HEART.         6   \n",
      "\n",
      "          InvoiceDate  Price  Customer ID         Country  \n",
      "0 2010-12-01 08:26:00   2.55      17850.0  United Kingdom  \n",
      "1 2010-12-01 08:26:00   3.39      17850.0  United Kingdom  \n",
      "2 2010-12-01 08:26:00   2.75      17850.0  United Kingdom  \n",
      "3 2010-12-01 08:26:00   3.39      17850.0  United Kingdom  \n",
      "4 2010-12-01 08:26:00   3.39      17850.0  United Kingdom  \n"
     ]
    }
   ],
   "source": [
    "import pandas as pd\n",
    "\n",
    "\n",
    "\n",
    "file_path = 'online_retail_II.xlsx'\n",
    "\n",
    "# Load each sheet into a separate DataFrame\n",
    "data_2009_2010 = pd.read_excel(file_path, sheet_name='Year 2009-2010')\n",
    "data_2010_2011 = pd.read_excel(file_path, sheet_name='Year 2010-2011')\n",
    "\n",
    "# Optionally, display the first few rows of each DataFrame to verify\n",
    "print(data_2009_2010.head())\n",
    "print(data_2010_2011.head())\n"
   ]
  },
  {
   "cell_type": "markdown",
   "metadata": {},
   "source": [
    "***CONCATING BOTH THE SHEETS TO PREPARE DATA***"
   ]
  },
  {
   "cell_type": "code",
   "execution_count": 2,
   "metadata": {},
   "outputs": [],
   "source": [
    "\n",
    "\n",
    "# Combine the two DataFrames\n",
    "combined_data = pd.concat([data_2009_2010, data_2010_2011], ignore_index=True)\n",
    "\n",
    "# Check and handle missing values\n",
    "combined_data.dropna(inplace=True)\n",
    "\n"
   ]
  },
  {
   "cell_type": "code",
   "execution_count": 3,
   "metadata": {},
   "outputs": [
    {
     "name": "stdout",
     "output_type": "stream",
     "text": [
      "Dimensions of combined data: (824364, 8)\n"
     ]
    }
   ],
   "source": [
    "print(\"Dimensions of combined data:\", combined_data.shape)"
   ]
  },
  {
   "cell_type": "markdown",
   "metadata": {},
   "source": [
    "***DATA PIPELINE AND PRE_PROCESSING***"
   ]
  },
  {
   "cell_type": "code",
   "execution_count": 4,
   "metadata": {},
   "outputs": [],
   "source": [
    "# Convert InvoiceDate to datetime if not already\n",
    "combined_data['InvoiceDate'] = pd.to_datetime(combined_data['InvoiceDate'])\n",
    "\n",
    "# Aggregate data to daily level per product\n",
    "daily_sales = combined_data.groupby([combined_data['InvoiceDate'].dt.date, 'StockCode']).agg({\n",
    "    'Quantity': 'sum',  # Sum quantities sold per day per product\n",
    "    'Price': 'mean'     # Calculate average price per day per product\n",
    "}).reset_index()"
   ]
  },
  {
   "cell_type": "code",
   "execution_count": 5,
   "metadata": {},
   "outputs": [
    {
     "name": "stdout",
     "output_type": "stream",
     "text": [
      "Number of different Stock Codes in daily_sales: 4646\n"
     ]
    }
   ],
   "source": [
    "# Assuming daily_sales has been defined and loaded\n",
    "num_stock_codes = daily_sales['StockCode'].nunique()\n",
    "print(\"Number of different Stock Codes in daily_sales:\", num_stock_codes)\n"
   ]
  },
  {
   "cell_type": "markdown",
   "metadata": {},
   "source": [
    "***CREATING A PIVOT TABLE TO USE IT FOR OUR MODEL***"
   ]
  },
  {
   "cell_type": "code",
   "execution_count": 6,
   "metadata": {},
   "outputs": [
    {
     "name": "stdout",
     "output_type": "stream",
     "text": [
      "Pivot table created and saved as 'pivot_daily_sales.csv'.\n"
     ]
    }
   ],
   "source": [
    "\n",
    "daily_sales.rename(columns={'InvoiceDate': 'Date'}, inplace=True)\n",
    "\n",
    "\n",
    "daily_sales['Date'] = pd.to_datetime(daily_sales['Date'])\n",
    "\n",
    "# Create the pivot table\n",
    "pivot_table = daily_sales.pivot_table(index='Date', columns='StockCode', values='Quantity', fill_value=0)\n",
    "\n",
    "\n",
    "pivot_table.to_csv('pivot_daily_sales.csv')\n",
    "\n",
    "print(\"Pivot table created and saved as 'pivot_daily_sales.csv'.\")\n"
   ]
  },
  {
   "cell_type": "code",
   "execution_count": 7,
   "metadata": {},
   "outputs": [
    {
     "name": "stdout",
     "output_type": "stream",
     "text": [
      "Unique Years in the Dataset: [2009 2010 2011]\n",
      "Unique Months by Year:\n",
      "Year\n",
      "2009                                       [12]\n",
      "2010    [1, 2, 3, 4, 5, 6, 7, 8, 9, 10, 11, 12]\n",
      "2011    [1, 2, 3, 4, 5, 6, 7, 8, 9, 10, 11, 12]\n",
      "Name: Month, dtype: object\n"
     ]
    }
   ],
   "source": [
    "# Extract year and month from InvoiceDate\n",
    "combined_data['Year'] = combined_data['InvoiceDate'].dt.year\n",
    "combined_data['Month'] = combined_data['InvoiceDate'].dt.month\n",
    "\n",
    "# Find unique years and months\n",
    "unique_years = combined_data['Year'].unique()\n",
    "unique_months_by_year = combined_data.groupby('Year')['Month'].unique()\n",
    "\n",
    "print(\"Unique Years in the Dataset:\", unique_years)\n",
    "print(\"Unique Months by Year:\")\n",
    "print(unique_months_by_year)"
   ]
  },
  {
   "cell_type": "code",
   "execution_count": 8,
   "metadata": {},
   "outputs": [],
   "source": [
    "\n",
    "\n",
    "# Load the pivot table from CSV\n",
    "pivot_table = pd.read_csv('pivot_daily_sales.csv', index_col='Date', parse_dates=True)\n"
   ]
  },
  {
   "cell_type": "markdown",
   "metadata": {},
   "source": [
    "***CREATING A TRAINING AND A TESTING DATASET***"
   ]
  },
  {
   "cell_type": "code",
   "execution_count": 9,
   "metadata": {},
   "outputs": [],
   "source": [
    "# Define the split date\n",
    "split_date = pd.to_datetime('2011-06-30')\n",
    "\n",
    "# Split the data\n",
    "train_data = pivot_table.loc[pivot_table.index <= split_date]\n",
    "test_data = pivot_table.loc[pivot_table.index > split_date]\n"
   ]
  },
  {
   "cell_type": "code",
   "execution_count": 10,
   "metadata": {},
   "outputs": [
    {
     "data": {
      "text/html": [
       "<div>\n",
       "<style scoped>\n",
       "    .dataframe tbody tr th:only-of-type {\n",
       "        vertical-align: middle;\n",
       "    }\n",
       "\n",
       "    .dataframe tbody tr th {\n",
       "        vertical-align: top;\n",
       "    }\n",
       "\n",
       "    .dataframe thead th {\n",
       "        text-align: right;\n",
       "    }\n",
       "</style>\n",
       "<table border=\"1\" class=\"dataframe\">\n",
       "  <thead>\n",
       "    <tr style=\"text-align: right;\">\n",
       "      <th></th>\n",
       "      <th>10002</th>\n",
       "      <th>10080</th>\n",
       "      <th>10109</th>\n",
       "      <th>10120</th>\n",
       "      <th>10125</th>\n",
       "      <th>10133</th>\n",
       "      <th>10134</th>\n",
       "      <th>10135</th>\n",
       "      <th>10138</th>\n",
       "      <th>11001</th>\n",
       "      <th>...</th>\n",
       "      <th>C2</th>\n",
       "      <th>CRUK</th>\n",
       "      <th>D</th>\n",
       "      <th>DOT</th>\n",
       "      <th>M</th>\n",
       "      <th>PADS</th>\n",
       "      <th>POST</th>\n",
       "      <th>SP1002</th>\n",
       "      <th>TEST001</th>\n",
       "      <th>TEST002</th>\n",
       "    </tr>\n",
       "    <tr>\n",
       "      <th>Date</th>\n",
       "      <th></th>\n",
       "      <th></th>\n",
       "      <th></th>\n",
       "      <th></th>\n",
       "      <th></th>\n",
       "      <th></th>\n",
       "      <th></th>\n",
       "      <th></th>\n",
       "      <th></th>\n",
       "      <th></th>\n",
       "      <th></th>\n",
       "      <th></th>\n",
       "      <th></th>\n",
       "      <th></th>\n",
       "      <th></th>\n",
       "      <th></th>\n",
       "      <th></th>\n",
       "      <th></th>\n",
       "      <th></th>\n",
       "      <th></th>\n",
       "      <th></th>\n",
       "    </tr>\n",
       "  </thead>\n",
       "  <tbody>\n",
       "    <tr>\n",
       "      <th>2009-12-01</th>\n",
       "      <td>12.0</td>\n",
       "      <td>0.0</td>\n",
       "      <td>0.0</td>\n",
       "      <td>60.0</td>\n",
       "      <td>4.0</td>\n",
       "      <td>6.0</td>\n",
       "      <td>0.0</td>\n",
       "      <td>17.0</td>\n",
       "      <td>0.0</td>\n",
       "      <td>0.0</td>\n",
       "      <td>...</td>\n",
       "      <td>0.0</td>\n",
       "      <td>0.0</td>\n",
       "      <td>-2.0</td>\n",
       "      <td>0.0</td>\n",
       "      <td>-1.0</td>\n",
       "      <td>0.0</td>\n",
       "      <td>14.0</td>\n",
       "      <td>0.0</td>\n",
       "      <td>0.0</td>\n",
       "      <td>0.0</td>\n",
       "    </tr>\n",
       "    <tr>\n",
       "      <th>2009-12-02</th>\n",
       "      <td>0.0</td>\n",
       "      <td>1.0</td>\n",
       "      <td>0.0</td>\n",
       "      <td>10.0</td>\n",
       "      <td>0.0</td>\n",
       "      <td>0.0</td>\n",
       "      <td>0.0</td>\n",
       "      <td>20.0</td>\n",
       "      <td>96.0</td>\n",
       "      <td>68.0</td>\n",
       "      <td>...</td>\n",
       "      <td>0.0</td>\n",
       "      <td>0.0</td>\n",
       "      <td>0.0</td>\n",
       "      <td>0.0</td>\n",
       "      <td>0.0</td>\n",
       "      <td>0.0</td>\n",
       "      <td>2.0</td>\n",
       "      <td>0.0</td>\n",
       "      <td>0.0</td>\n",
       "      <td>0.0</td>\n",
       "    </tr>\n",
       "    <tr>\n",
       "      <th>2009-12-03</th>\n",
       "      <td>7.0</td>\n",
       "      <td>0.0</td>\n",
       "      <td>4.0</td>\n",
       "      <td>0.0</td>\n",
       "      <td>0.0</td>\n",
       "      <td>40.0</td>\n",
       "      <td>13.0</td>\n",
       "      <td>12.0</td>\n",
       "      <td>35.0</td>\n",
       "      <td>2.0</td>\n",
       "      <td>...</td>\n",
       "      <td>1.0</td>\n",
       "      <td>0.0</td>\n",
       "      <td>0.0</td>\n",
       "      <td>0.0</td>\n",
       "      <td>-2.0</td>\n",
       "      <td>0.0</td>\n",
       "      <td>-3.0</td>\n",
       "      <td>0.0</td>\n",
       "      <td>0.0</td>\n",
       "      <td>0.0</td>\n",
       "    </tr>\n",
       "    <tr>\n",
       "      <th>2009-12-04</th>\n",
       "      <td>73.0</td>\n",
       "      <td>3.0</td>\n",
       "      <td>0.0</td>\n",
       "      <td>30.0</td>\n",
       "      <td>46.0</td>\n",
       "      <td>24.0</td>\n",
       "      <td>0.0</td>\n",
       "      <td>10.0</td>\n",
       "      <td>12.0</td>\n",
       "      <td>0.0</td>\n",
       "      <td>...</td>\n",
       "      <td>0.0</td>\n",
       "      <td>0.0</td>\n",
       "      <td>0.0</td>\n",
       "      <td>0.0</td>\n",
       "      <td>2.0</td>\n",
       "      <td>0.0</td>\n",
       "      <td>13.0</td>\n",
       "      <td>0.0</td>\n",
       "      <td>0.0</td>\n",
       "      <td>0.0</td>\n",
       "    </tr>\n",
       "    <tr>\n",
       "      <th>2009-12-05</th>\n",
       "      <td>0.0</td>\n",
       "      <td>0.0</td>\n",
       "      <td>0.0</td>\n",
       "      <td>0.0</td>\n",
       "      <td>0.0</td>\n",
       "      <td>10.0</td>\n",
       "      <td>10.0</td>\n",
       "      <td>0.0</td>\n",
       "      <td>0.0</td>\n",
       "      <td>0.0</td>\n",
       "      <td>...</td>\n",
       "      <td>0.0</td>\n",
       "      <td>0.0</td>\n",
       "      <td>0.0</td>\n",
       "      <td>0.0</td>\n",
       "      <td>0.0</td>\n",
       "      <td>0.0</td>\n",
       "      <td>0.0</td>\n",
       "      <td>0.0</td>\n",
       "      <td>0.0</td>\n",
       "      <td>0.0</td>\n",
       "    </tr>\n",
       "    <tr>\n",
       "      <th>...</th>\n",
       "      <td>...</td>\n",
       "      <td>...</td>\n",
       "      <td>...</td>\n",
       "      <td>...</td>\n",
       "      <td>...</td>\n",
       "      <td>...</td>\n",
       "      <td>...</td>\n",
       "      <td>...</td>\n",
       "      <td>...</td>\n",
       "      <td>...</td>\n",
       "      <td>...</td>\n",
       "      <td>...</td>\n",
       "      <td>...</td>\n",
       "      <td>...</td>\n",
       "      <td>...</td>\n",
       "      <td>...</td>\n",
       "      <td>...</td>\n",
       "      <td>...</td>\n",
       "      <td>...</td>\n",
       "      <td>...</td>\n",
       "      <td>...</td>\n",
       "    </tr>\n",
       "    <tr>\n",
       "      <th>2011-06-26</th>\n",
       "      <td>0.0</td>\n",
       "      <td>0.0</td>\n",
       "      <td>0.0</td>\n",
       "      <td>0.0</td>\n",
       "      <td>0.0</td>\n",
       "      <td>2.0</td>\n",
       "      <td>0.0</td>\n",
       "      <td>2.0</td>\n",
       "      <td>0.0</td>\n",
       "      <td>0.0</td>\n",
       "      <td>...</td>\n",
       "      <td>0.0</td>\n",
       "      <td>0.0</td>\n",
       "      <td>0.0</td>\n",
       "      <td>0.0</td>\n",
       "      <td>0.0</td>\n",
       "      <td>0.0</td>\n",
       "      <td>4.0</td>\n",
       "      <td>0.0</td>\n",
       "      <td>0.0</td>\n",
       "      <td>0.0</td>\n",
       "    </tr>\n",
       "    <tr>\n",
       "      <th>2011-06-27</th>\n",
       "      <td>0.0</td>\n",
       "      <td>0.0</td>\n",
       "      <td>0.0</td>\n",
       "      <td>0.0</td>\n",
       "      <td>0.0</td>\n",
       "      <td>0.0</td>\n",
       "      <td>0.0</td>\n",
       "      <td>0.0</td>\n",
       "      <td>0.0</td>\n",
       "      <td>0.0</td>\n",
       "      <td>...</td>\n",
       "      <td>0.0</td>\n",
       "      <td>0.0</td>\n",
       "      <td>0.0</td>\n",
       "      <td>0.0</td>\n",
       "      <td>0.0</td>\n",
       "      <td>0.0</td>\n",
       "      <td>1.0</td>\n",
       "      <td>0.0</td>\n",
       "      <td>0.0</td>\n",
       "      <td>0.0</td>\n",
       "    </tr>\n",
       "    <tr>\n",
       "      <th>2011-06-28</th>\n",
       "      <td>0.0</td>\n",
       "      <td>0.0</td>\n",
       "      <td>0.0</td>\n",
       "      <td>0.0</td>\n",
       "      <td>0.0</td>\n",
       "      <td>24.0</td>\n",
       "      <td>0.0</td>\n",
       "      <td>0.0</td>\n",
       "      <td>0.0</td>\n",
       "      <td>0.0</td>\n",
       "      <td>...</td>\n",
       "      <td>0.0</td>\n",
       "      <td>0.0</td>\n",
       "      <td>0.0</td>\n",
       "      <td>0.0</td>\n",
       "      <td>-1.0</td>\n",
       "      <td>0.0</td>\n",
       "      <td>1.0</td>\n",
       "      <td>0.0</td>\n",
       "      <td>0.0</td>\n",
       "      <td>0.0</td>\n",
       "    </tr>\n",
       "    <tr>\n",
       "      <th>2011-06-29</th>\n",
       "      <td>0.0</td>\n",
       "      <td>0.0</td>\n",
       "      <td>0.0</td>\n",
       "      <td>0.0</td>\n",
       "      <td>0.0</td>\n",
       "      <td>0.0</td>\n",
       "      <td>0.0</td>\n",
       "      <td>0.0</td>\n",
       "      <td>0.0</td>\n",
       "      <td>0.0</td>\n",
       "      <td>...</td>\n",
       "      <td>0.0</td>\n",
       "      <td>0.0</td>\n",
       "      <td>0.0</td>\n",
       "      <td>0.0</td>\n",
       "      <td>4.0</td>\n",
       "      <td>0.0</td>\n",
       "      <td>0.0</td>\n",
       "      <td>0.0</td>\n",
       "      <td>0.0</td>\n",
       "      <td>0.0</td>\n",
       "    </tr>\n",
       "    <tr>\n",
       "      <th>2011-06-30</th>\n",
       "      <td>0.0</td>\n",
       "      <td>0.0</td>\n",
       "      <td>0.0</td>\n",
       "      <td>0.0</td>\n",
       "      <td>0.0</td>\n",
       "      <td>0.0</td>\n",
       "      <td>0.0</td>\n",
       "      <td>0.0</td>\n",
       "      <td>0.0</td>\n",
       "      <td>0.0</td>\n",
       "      <td>...</td>\n",
       "      <td>0.0</td>\n",
       "      <td>0.0</td>\n",
       "      <td>0.0</td>\n",
       "      <td>0.0</td>\n",
       "      <td>-7.0</td>\n",
       "      <td>0.0</td>\n",
       "      <td>8.0</td>\n",
       "      <td>0.0</td>\n",
       "      <td>0.0</td>\n",
       "      <td>0.0</td>\n",
       "    </tr>\n",
       "  </tbody>\n",
       "</table>\n",
       "<p>466 rows × 4646 columns</p>\n",
       "</div>"
      ],
      "text/plain": [
       "            10002  10080  10109  10120  10125  10133  10134  10135  10138  \\\n",
       "Date                                                                        \n",
       "2009-12-01   12.0    0.0    0.0   60.0    4.0    6.0    0.0   17.0    0.0   \n",
       "2009-12-02    0.0    1.0    0.0   10.0    0.0    0.0    0.0   20.0   96.0   \n",
       "2009-12-03    7.0    0.0    4.0    0.0    0.0   40.0   13.0   12.0   35.0   \n",
       "2009-12-04   73.0    3.0    0.0   30.0   46.0   24.0    0.0   10.0   12.0   \n",
       "2009-12-05    0.0    0.0    0.0    0.0    0.0   10.0   10.0    0.0    0.0   \n",
       "...           ...    ...    ...    ...    ...    ...    ...    ...    ...   \n",
       "2011-06-26    0.0    0.0    0.0    0.0    0.0    2.0    0.0    2.0    0.0   \n",
       "2011-06-27    0.0    0.0    0.0    0.0    0.0    0.0    0.0    0.0    0.0   \n",
       "2011-06-28    0.0    0.0    0.0    0.0    0.0   24.0    0.0    0.0    0.0   \n",
       "2011-06-29    0.0    0.0    0.0    0.0    0.0    0.0    0.0    0.0    0.0   \n",
       "2011-06-30    0.0    0.0    0.0    0.0    0.0    0.0    0.0    0.0    0.0   \n",
       "\n",
       "            11001  ...   C2  CRUK    D  DOT    M  PADS  POST  SP1002  TEST001  \\\n",
       "Date               ...                                                          \n",
       "2009-12-01    0.0  ...  0.0   0.0 -2.0  0.0 -1.0   0.0  14.0     0.0      0.0   \n",
       "2009-12-02   68.0  ...  0.0   0.0  0.0  0.0  0.0   0.0   2.0     0.0      0.0   \n",
       "2009-12-03    2.0  ...  1.0   0.0  0.0  0.0 -2.0   0.0  -3.0     0.0      0.0   \n",
       "2009-12-04    0.0  ...  0.0   0.0  0.0  0.0  2.0   0.0  13.0     0.0      0.0   \n",
       "2009-12-05    0.0  ...  0.0   0.0  0.0  0.0  0.0   0.0   0.0     0.0      0.0   \n",
       "...           ...  ...  ...   ...  ...  ...  ...   ...   ...     ...      ...   \n",
       "2011-06-26    0.0  ...  0.0   0.0  0.0  0.0  0.0   0.0   4.0     0.0      0.0   \n",
       "2011-06-27    0.0  ...  0.0   0.0  0.0  0.0  0.0   0.0   1.0     0.0      0.0   \n",
       "2011-06-28    0.0  ...  0.0   0.0  0.0  0.0 -1.0   0.0   1.0     0.0      0.0   \n",
       "2011-06-29    0.0  ...  0.0   0.0  0.0  0.0  4.0   0.0   0.0     0.0      0.0   \n",
       "2011-06-30    0.0  ...  0.0   0.0  0.0  0.0 -7.0   0.0   8.0     0.0      0.0   \n",
       "\n",
       "            TEST002  \n",
       "Date                 \n",
       "2009-12-01      0.0  \n",
       "2009-12-02      0.0  \n",
       "2009-12-03      0.0  \n",
       "2009-12-04      0.0  \n",
       "2009-12-05      0.0  \n",
       "...             ...  \n",
       "2011-06-26      0.0  \n",
       "2011-06-27      0.0  \n",
       "2011-06-28      0.0  \n",
       "2011-06-29      0.0  \n",
       "2011-06-30      0.0  \n",
       "\n",
       "[466 rows x 4646 columns]"
      ]
     },
     "execution_count": 10,
     "metadata": {},
     "output_type": "execute_result"
    }
   ],
   "source": [
    "train_data"
   ]
  },
  {
   "cell_type": "code",
   "execution_count": 11,
   "metadata": {},
   "outputs": [
    {
     "data": {
      "text/plain": [
       "(466, 4646)"
      ]
     },
     "execution_count": 11,
     "metadata": {},
     "output_type": "execute_result"
    }
   ],
   "source": [
    "train_data.shape"
   ]
  },
  {
   "cell_type": "code",
   "execution_count": 12,
   "metadata": {},
   "outputs": [
    {
     "data": {
      "text/plain": [
       "(138, 4646)"
      ]
     },
     "execution_count": 12,
     "metadata": {},
     "output_type": "execute_result"
    }
   ],
   "source": [
    "test_data.shape"
   ]
  },
  {
   "cell_type": "markdown",
   "metadata": {},
   "source": [
    "***CREATION OF SEQUENCES TO FEED IT TO OUR LSTM MODEL***"
   ]
  },
  {
   "cell_type": "code",
   "execution_count": 13,
   "metadata": {},
   "outputs": [],
   "source": [
    "# Convert DataFrame to NumPy array if needed\n",
    "import numpy as np\n",
    "from sklearn.preprocessing import MinMaxScaler\n",
    "train_data = train_data.values if isinstance(train_data, pd.DataFrame) else train_data\n",
    "test_data = test_data.values if isinstance(test_data, pd.DataFrame) else test_data\n",
    "\n",
    "# Initialize the MinMaxScaler and scale the data\n",
    "scaler = MinMaxScaler(feature_range=(0, 1))\n",
    "train_scaled = scaler.fit_transform(train_data)\n",
    "test_scaled = scaler.transform(test_data)\n",
    "\n",
    "# Create sequences\n",
    "def create_sequences(data, time_steps=1):\n",
    "    Xs, ys = [], []\n",
    "    for i in range(len(data) - time_steps):\n",
    "        Xs.append(data[i:(i + time_steps)])\n",
    "        ys.append(data[i + time_steps])\n",
    "    return np.array(Xs), np.array(ys)\n",
    "\n",
    "time_steps = 30  # Define the number of time steps for LSTM input\n",
    "X_train, y_train = create_sequences(train_scaled, time_steps)\n",
    "X_test, y_test = create_sequences(test_scaled, time_steps)"
   ]
  },
  {
   "cell_type": "code",
   "execution_count": 14,
   "metadata": {},
   "outputs": [
    {
     "data": {
      "text/plain": [
       "array([[[0.30931459, 0.        , 0.        , ..., 0.        ,\n",
       "         0.2       , 0.        ],\n",
       "        [0.28822496, 0.02083333, 0.        , ..., 0.        ,\n",
       "         0.2       , 0.        ],\n",
       "        [0.30052724, 0.        , 1.        , ..., 0.        ,\n",
       "         0.2       , 0.        ],\n",
       "        ...,\n",
       "        [0.37258348, 0.        , 0.        , ..., 0.        ,\n",
       "         0.2       , 0.        ],\n",
       "        [0.28822496, 0.        , 0.        , ..., 0.        ,\n",
       "         0.2       , 0.        ],\n",
       "        [0.28822496, 0.        , 0.        , ..., 0.        ,\n",
       "         0.2       , 0.        ]],\n",
       "\n",
       "       [[0.28822496, 0.02083333, 0.        , ..., 0.        ,\n",
       "         0.2       , 0.        ],\n",
       "        [0.30052724, 0.        , 1.        , ..., 0.        ,\n",
       "         0.2       , 0.        ],\n",
       "        [0.41652021, 0.0625    , 0.        , ..., 0.        ,\n",
       "         0.2       , 0.        ],\n",
       "        ...,\n",
       "        [0.28822496, 0.        , 0.        , ..., 0.        ,\n",
       "         0.2       , 0.        ],\n",
       "        [0.28822496, 0.        , 0.        , ..., 0.        ,\n",
       "         0.2       , 0.        ],\n",
       "        [0.53427065, 0.        , 0.        , ..., 0.        ,\n",
       "         0.4       , 0.        ]],\n",
       "\n",
       "       [[0.30052724, 0.        , 1.        , ..., 0.        ,\n",
       "         0.2       , 0.        ],\n",
       "        [0.41652021, 0.0625    , 0.        , ..., 0.        ,\n",
       "         0.2       , 0.        ],\n",
       "        [0.28822496, 0.        , 0.        , ..., 0.        ,\n",
       "         0.2       , 0.        ],\n",
       "        ...,\n",
       "        [0.28822496, 0.        , 0.        , ..., 0.        ,\n",
       "         0.2       , 0.        ],\n",
       "        [0.53427065, 0.        , 0.        , ..., 0.        ,\n",
       "         0.4       , 0.        ],\n",
       "        [0.28822496, 0.        , 0.        , ..., 0.        ,\n",
       "         0.2       , 0.        ]],\n",
       "\n",
       "       ...,\n",
       "\n",
       "       [[0.28822496, 0.        , 0.        , ..., 0.        ,\n",
       "         0.2       , 0.        ],\n",
       "        [0.28822496, 0.        , 0.        , ..., 0.        ,\n",
       "         0.2       , 0.        ],\n",
       "        [0.28822496, 0.        , 0.        , ..., 0.        ,\n",
       "         0.2       , 0.        ],\n",
       "        ...,\n",
       "        [0.28822496, 0.        , 0.        , ..., 0.        ,\n",
       "         0.2       , 0.        ],\n",
       "        [0.28822496, 0.        , 0.        , ..., 0.        ,\n",
       "         0.2       , 0.        ],\n",
       "        [0.28822496, 0.        , 0.        , ..., 0.        ,\n",
       "         0.2       , 0.        ]],\n",
       "\n",
       "       [[0.28822496, 0.        , 0.        , ..., 0.        ,\n",
       "         0.2       , 0.        ],\n",
       "        [0.28822496, 0.        , 0.        , ..., 0.        ,\n",
       "         0.2       , 0.        ],\n",
       "        [0.28822496, 0.        , 0.        , ..., 0.        ,\n",
       "         0.2       , 0.        ],\n",
       "        ...,\n",
       "        [0.28822496, 0.        , 0.        , ..., 0.        ,\n",
       "         0.2       , 0.        ],\n",
       "        [0.28822496, 0.        , 0.        , ..., 0.        ,\n",
       "         0.2       , 0.        ],\n",
       "        [0.28822496, 0.        , 0.        , ..., 0.        ,\n",
       "         0.2       , 0.        ]],\n",
       "\n",
       "       [[0.28822496, 0.        , 0.        , ..., 0.        ,\n",
       "         0.2       , 0.        ],\n",
       "        [0.28822496, 0.        , 0.        , ..., 0.        ,\n",
       "         0.2       , 0.        ],\n",
       "        [0.28822496, 0.        , 0.        , ..., 0.        ,\n",
       "         0.2       , 0.        ],\n",
       "        ...,\n",
       "        [0.28822496, 0.        , 0.        , ..., 0.        ,\n",
       "         0.2       , 0.        ],\n",
       "        [0.28822496, 0.        , 0.        , ..., 0.        ,\n",
       "         0.2       , 0.        ],\n",
       "        [0.28822496, 0.        , 0.        , ..., 0.        ,\n",
       "         0.2       , 0.        ]]])"
      ]
     },
     "execution_count": 14,
     "metadata": {},
     "output_type": "execute_result"
    }
   ],
   "source": [
    "X_train"
   ]
  },
  {
   "cell_type": "markdown",
   "metadata": {},
   "source": [
    "***TRAINING OF OUR LSTM MODEL***"
   ]
  },
  {
   "cell_type": "code",
   "execution_count": 15,
   "metadata": {},
   "outputs": [
    {
     "name": "stderr",
     "output_type": "stream",
     "text": [
      "2024-04-16 21:49:46.223116: I tensorflow/core/platform/cpu_feature_guard.cc:142] This TensorFlow binary is optimized with oneAPI Deep Neural Network Library (oneDNN) to use the following CPU instructions in performance-critical operations:  AVX2 AVX512F FMA\n",
      "To enable them in other operations, rebuild TensorFlow with the appropriate compiler flags.\n",
      "2024-04-16 21:49:47.046096: I tensorflow/compiler/mlir/mlir_graph_optimization_pass.cc:185] None of the MLIR Optimization Passes are enabled (registered 2)\n"
     ]
    },
    {
     "name": "stdout",
     "output_type": "stream",
     "text": [
      "Epoch 1/50\n",
      "13/13 [==============================] - 7s 236ms/step - loss: 0.0225 - val_loss: 0.0130\n",
      "Epoch 2/50\n",
      "13/13 [==============================] - 2s 155ms/step - loss: 0.0099 - val_loss: 0.0073\n",
      "Epoch 3/50\n",
      "13/13 [==============================] - 2s 176ms/step - loss: 0.0071 - val_loss: 0.0065\n",
      "Epoch 4/50\n",
      "13/13 [==============================] - 2s 170ms/step - loss: 0.0062 - val_loss: 0.0062\n",
      "Epoch 5/50\n",
      "13/13 [==============================] - 2s 150ms/step - loss: 0.0059 - val_loss: 0.0062\n",
      "Epoch 6/50\n",
      "13/13 [==============================] - 2s 162ms/step - loss: 0.0057 - val_loss: 0.0062\n",
      "Epoch 7/50\n",
      "13/13 [==============================] - 2s 160ms/step - loss: 0.0056 - val_loss: 0.0062\n",
      "Epoch 8/50\n",
      "13/13 [==============================] - 2s 176ms/step - loss: 0.0056 - val_loss: 0.0061\n",
      "Epoch 9/50\n",
      "13/13 [==============================] - 2s 178ms/step - loss: 0.0055 - val_loss: 0.0061\n",
      "Epoch 10/50\n",
      "13/13 [==============================] - 2s 159ms/step - loss: 0.0055 - val_loss: 0.0061\n",
      "Epoch 11/50\n",
      "13/13 [==============================] - 2s 162ms/step - loss: 0.0055 - val_loss: 0.0061\n",
      "Epoch 12/50\n",
      "13/13 [==============================] - 2s 161ms/step - loss: 0.0054 - val_loss: 0.0062\n",
      "Epoch 13/50\n",
      "13/13 [==============================] - 2s 165ms/step - loss: 0.0054 - val_loss: 0.0062\n",
      "Epoch 14/50\n",
      "13/13 [==============================] - 2s 164ms/step - loss: 0.0054 - val_loss: 0.0061\n",
      "Epoch 15/50\n",
      "13/13 [==============================] - 2s 181ms/step - loss: 0.0054 - val_loss: 0.0061\n",
      "Epoch 16/50\n",
      "13/13 [==============================] - 2s 184ms/step - loss: 0.0054 - val_loss: 0.0061\n",
      "Epoch 17/50\n",
      "13/13 [==============================] - 2s 181ms/step - loss: 0.0053 - val_loss: 0.0061\n",
      "Epoch 18/50\n",
      "13/13 [==============================] - 2s 176ms/step - loss: 0.0053 - val_loss: 0.0061\n",
      "Epoch 19/50\n",
      "13/13 [==============================] - 2s 181ms/step - loss: 0.0053 - val_loss: 0.0061\n",
      "Epoch 20/50\n",
      "13/13 [==============================] - 2s 167ms/step - loss: 0.0052 - val_loss: 0.0061\n",
      "Epoch 21/50\n",
      "13/13 [==============================] - 2s 180ms/step - loss: 0.0052 - val_loss: 0.0061\n",
      "Epoch 22/50\n",
      "13/13 [==============================] - 2s 161ms/step - loss: 0.0052 - val_loss: 0.0061\n",
      "Epoch 23/50\n",
      "13/13 [==============================] - 2s 163ms/step - loss: 0.0052 - val_loss: 0.0061\n",
      "Epoch 24/50\n",
      "13/13 [==============================] - 2s 166ms/step - loss: 0.0052 - val_loss: 0.0061\n",
      "Epoch 25/50\n",
      "13/13 [==============================] - 2s 162ms/step - loss: 0.0052 - val_loss: 0.0061\n",
      "Epoch 26/50\n",
      "13/13 [==============================] - 2s 170ms/step - loss: 0.0051 - val_loss: 0.0061\n",
      "Epoch 27/50\n",
      "13/13 [==============================] - 2s 162ms/step - loss: 0.0051 - val_loss: 0.0061\n",
      "Epoch 28/50\n",
      "13/13 [==============================] - 2s 163ms/step - loss: 0.0051 - val_loss: 0.0061\n",
      "Epoch 29/50\n",
      "13/13 [==============================] - 2s 166ms/step - loss: 0.0051 - val_loss: 0.0061\n",
      "Epoch 30/50\n",
      "13/13 [==============================] - 2s 162ms/step - loss: 0.0051 - val_loss: 0.0061\n",
      "Epoch 31/50\n",
      "13/13 [==============================] - 3s 245ms/step - loss: 0.0051 - val_loss: 0.0061\n",
      "Epoch 32/50\n",
      "13/13 [==============================] - 2s 163ms/step - loss: 0.0051 - val_loss: 0.0061\n",
      "Epoch 33/50\n",
      "13/13 [==============================] - 2s 164ms/step - loss: 0.0051 - val_loss: 0.0061\n",
      "Epoch 34/50\n",
      "13/13 [==============================] - 2s 151ms/step - loss: 0.0051 - val_loss: 0.0061\n",
      "Epoch 35/50\n",
      "13/13 [==============================] - 2s 149ms/step - loss: 0.0051 - val_loss: 0.0061\n",
      "Epoch 36/50\n",
      "13/13 [==============================] - 2s 154ms/step - loss: 0.0051 - val_loss: 0.0061\n",
      "Epoch 37/50\n",
      "13/13 [==============================] - 2s 171ms/step - loss: 0.0051 - val_loss: 0.0060\n",
      "Epoch 38/50\n",
      "13/13 [==============================] - 2s 159ms/step - loss: 0.0050 - val_loss: 0.0060\n",
      "Epoch 39/50\n",
      "13/13 [==============================] - 2s 163ms/step - loss: 0.0050 - val_loss: 0.0060\n",
      "Epoch 40/50\n",
      "13/13 [==============================] - 2s 159ms/step - loss: 0.0051 - val_loss: 0.0060\n",
      "Epoch 41/50\n",
      "13/13 [==============================] - 2s 164ms/step - loss: 0.0050 - val_loss: 0.0059\n",
      "Epoch 42/50\n",
      "13/13 [==============================] - 2s 168ms/step - loss: 0.0050 - val_loss: 0.0060\n",
      "Epoch 43/50\n",
      "13/13 [==============================] - 2s 164ms/step - loss: 0.0050 - val_loss: 0.0059\n",
      "Epoch 44/50\n",
      "13/13 [==============================] - 2s 175ms/step - loss: 0.0050 - val_loss: 0.0060\n",
      "Epoch 45/50\n",
      "13/13 [==============================] - 2s 160ms/step - loss: 0.0050 - val_loss: 0.0060\n",
      "Epoch 46/50\n",
      "13/13 [==============================] - 2s 184ms/step - loss: 0.0050 - val_loss: 0.0059\n",
      "Epoch 47/50\n",
      "13/13 [==============================] - 2s 160ms/step - loss: 0.0050 - val_loss: 0.0060\n",
      "Epoch 48/50\n",
      "13/13 [==============================] - 2s 164ms/step - loss: 0.0050 - val_loss: 0.0059\n",
      "Epoch 49/50\n",
      "13/13 [==============================] - 2s 158ms/step - loss: 0.0050 - val_loss: 0.0059\n",
      "Epoch 50/50\n",
      "13/13 [==============================] - 2s 181ms/step - loss: 0.0050 - val_loss: 0.0059\n"
     ]
    }
   ],
   "source": [
    "from keras.models import Sequential\n",
    "from keras.layers import LSTM, Dense, Dropout\n",
    "\n",
    "# Define the LSTM model\n",
    "model = Sequential()\n",
    "model.add(LSTM(100, input_shape=(X_train.shape[1], X_train.shape[2]), return_sequences=True))\n",
    "model.add(Dropout(0.2))  # Add dropout to handle sparsity and prevent overfitting\n",
    "model.add(LSTM(50, return_sequences=False))\n",
    "model.add(Dropout(0.2))\n",
    "model.add(Dense(units=X_train.shape[2]))  # Output layer with one unit per feature\n",
    "\n",
    "# Compile the model\n",
    "model.compile(optimizer='adam', loss='mse')\n",
    "\n",
    "# Train the model\n",
    "history = model.fit(X_train, y_train, epochs=50, batch_size=32, validation_split=0.1, verbose=1)\n"
   ]
  },
  {
   "cell_type": "code",
   "execution_count": 16,
   "metadata": {},
   "outputs": [
    {
     "name": "stdout",
     "output_type": "stream",
     "text": [
      "Final training loss: 0.0049858009442687035\n",
      "Final validation loss: 0.005949161946773529\n"
     ]
    }
   ],
   "source": [
    "# Evaluate model performance\n",
    "final_train_loss = history.history['loss'][-1]\n",
    "final_val_loss = history.history['val_loss'][-1]\n",
    "print(f\"Final training loss: {final_train_loss}\")\n",
    "print(f\"Final validation loss: {final_val_loss}\")\n"
   ]
  },
  {
   "cell_type": "code",
   "execution_count": 17,
   "metadata": {},
   "outputs": [
    {
     "name": "stdout",
     "output_type": "stream",
     "text": [
      "Test MAE: 0.5885942384131242\n"
     ]
    }
   ],
   "source": [
    "# Predict on test data\n",
    "test_predictions = model.predict(X_test)\n",
    "\n",
    "# Optionally, calculate some error metric to evaluate the test set performance\n",
    "# e.g., Mean Absolute Error (MAE)\n",
    "from sklearn.metrics import mean_absolute_error\n",
    "test_mae = mean_absolute_error(y_test, test_predictions)\n",
    "print(f\"Test MAE: {test_mae}\")\n"
   ]
  },
  {
   "cell_type": "code",
   "execution_count": 18,
   "metadata": {},
   "outputs": [
    {
     "data": {
      "image/png": "[encoded data removed]",
      "text/plain": [
       "<Figure size 720x432 with 1 Axes>"
      ]
     },
     "metadata": {
      "needs_background": "light"
     },
     "output_type": "display_data"
    }
   ],
   "source": [
    "import matplotlib.pyplot as plt\n",
    "\n",
    "# Assuming 'history' is the object returned by the model.fit() method\n",
    "train_loss = history.history['loss']\n",
    "val_loss = history.history['val_loss']\n",
    "\n",
    "# Set up the figure\n",
    "plt.figure(figsize=(10, 6))\n",
    "plt.plot(train_loss, label='Training Loss')\n",
    "plt.plot(val_loss, label='Validation Loss')\n",
    "plt.title('Training and Validation Loss Over Epochs')\n",
    "plt.xlabel('Epochs')\n",
    "plt.ylabel('Loss')\n",
    "plt.legend()\n",
    "plt.grid(True)\n",
    "\n",
    "# Display the plot\n",
    "plt.show()\n"
   ]
  },
  {
   "cell_type": "code",
   "execution_count": 19,
   "metadata": {},
   "outputs": [],
   "source": [
    "import numpy as np\n",
    "import tensorflow as tf"
   ]
  },
  {
   "cell_type": "markdown",
   "metadata": {},
   "source": [
    "***ESTIMATING DAILY TOTAL SALE FOR ALL PRODUCTS***"
   ]
  },
  {
   "cell_type": "markdown",
   "metadata": {},
   "source": [
    "Preparing data "
   ]
  },
  {
   "cell_type": "code",
   "execution_count": 64,
   "metadata": {},
   "outputs": [],
   "source": [
    "import pandas as pd\n",
    "from sklearn.preprocessing import MinMaxScaler\n",
    "\n",
    "# Load the data using the openpyxl engine\n",
    "\n",
    "# Combine the data from both sheets\n",
    "combined_datax = pd.concat([data_2009_2010, data_2010_2011])\n",
    "\n",
    "# Data Cleaning\n",
    "# Remove rows with missing values in 'InvoiceDate', 'Quantity', 'Price'\n",
    "combined_datax.dropna(subset=['InvoiceDate', 'Quantity', 'Price'], inplace=True)\n",
    "# Remove rows with negative or zero quantity\n",
    "combined_datax = combined_datax[combined_datax['Quantity'] > 0]\n",
    "\n",
    "# Calculate total sales per transaction\n",
    "combined_datax['Total_Sales'] = combined_datax['Quantity'] * combined_datax['Price']\n",
    "\n",
    "# Convert InvoiceDate to datetime\n",
    "combined_datax['InvoiceDate'] = pd.to_datetime(combined_datax['InvoiceDate'])\n",
    "\n",
    "# Aggregate sales data daily\n",
    "daily_salesx = combined_datax.set_index('InvoiceDate').resample('D').agg(Total_Sales=('Total_Sales', 'sum'))\n",
    "\n"
   ]
  },
  {
   "cell_type": "code",
   "execution_count": 65,
   "metadata": {},
   "outputs": [
    {
     "data": {
      "text/plain": [
       "0          83.40\n",
       "1          81.00\n",
       "2          81.00\n",
       "3         100.80\n",
       "4          30.00\n",
       "           ...  \n",
       "541905     12.60\n",
       "541906     16.60\n",
       "541907     16.60\n",
       "541908     14.85\n",
       "541909     18.00\n",
       "Name: Total_Sales, Length: 1044421, dtype: float64"
      ]
     },
     "execution_count": 65,
     "metadata": {},
     "output_type": "execute_result"
    }
   ],
   "source": [
    "combined_datax['Total_Sales']"
   ]
  },
  {
   "cell_type": "code",
   "execution_count": 66,
   "metadata": {},
   "outputs": [
    {
     "data": {
      "text/html": [
       "<div>\n",
       "<style scoped>\n",
       "    .dataframe tbody tr th:only-of-type {\n",
       "        vertical-align: middle;\n",
       "    }\n",
       "\n",
       "    .dataframe tbody tr th {\n",
       "        vertical-align: top;\n",
       "    }\n",
       "\n",
       "    .dataframe thead th {\n",
       "        text-align: right;\n",
       "    }\n",
       "</style>\n",
       "<table border=\"1\" class=\"dataframe\">\n",
       "  <thead>\n",
       "    <tr style=\"text-align: right;\">\n",
       "      <th></th>\n",
       "      <th>Total_Sales</th>\n",
       "    </tr>\n",
       "    <tr>\n",
       "      <th>InvoiceDate</th>\n",
       "      <th></th>\n",
       "    </tr>\n",
       "  </thead>\n",
       "  <tbody>\n",
       "    <tr>\n",
       "      <th>2009-12-01</th>\n",
       "      <td>54513.50</td>\n",
       "    </tr>\n",
       "    <tr>\n",
       "      <th>2009-12-02</th>\n",
       "      <td>63352.51</td>\n",
       "    </tr>\n",
       "    <tr>\n",
       "      <th>2009-12-03</th>\n",
       "      <td>74037.91</td>\n",
       "    </tr>\n",
       "    <tr>\n",
       "      <th>2009-12-04</th>\n",
       "      <td>40732.92</td>\n",
       "    </tr>\n",
       "    <tr>\n",
       "      <th>2009-12-05</th>\n",
       "      <td>9803.05</td>\n",
       "    </tr>\n",
       "    <tr>\n",
       "      <th>...</th>\n",
       "      <td>...</td>\n",
       "    </tr>\n",
       "    <tr>\n",
       "      <th>2011-12-05</th>\n",
       "      <td>88741.96</td>\n",
       "    </tr>\n",
       "    <tr>\n",
       "      <th>2011-12-06</th>\n",
       "      <td>56713.21</td>\n",
       "    </tr>\n",
       "    <tr>\n",
       "      <th>2011-12-07</th>\n",
       "      <td>75439.16</td>\n",
       "    </tr>\n",
       "    <tr>\n",
       "      <th>2011-12-08</th>\n",
       "      <td>82495.00</td>\n",
       "    </tr>\n",
       "    <tr>\n",
       "      <th>2011-12-09</th>\n",
       "      <td>200938.60</td>\n",
       "    </tr>\n",
       "  </tbody>\n",
       "</table>\n",
       "<p>739 rows × 1 columns</p>\n",
       "</div>"
      ],
      "text/plain": [
       "             Total_Sales\n",
       "InvoiceDate             \n",
       "2009-12-01      54513.50\n",
       "2009-12-02      63352.51\n",
       "2009-12-03      74037.91\n",
       "2009-12-04      40732.92\n",
       "2009-12-05       9803.05\n",
       "...                  ...\n",
       "2011-12-05      88741.96\n",
       "2011-12-06      56713.21\n",
       "2011-12-07      75439.16\n",
       "2011-12-08      82495.00\n",
       "2011-12-09     200938.60\n",
       "\n",
       "[739 rows x 1 columns]"
      ]
     },
     "execution_count": 66,
     "metadata": {},
     "output_type": "execute_result"
    }
   ],
   "source": [
    "daily_salesx"
   ]
  },
  {
   "cell_type": "code",
   "execution_count": 67,
   "metadata": {},
   "outputs": [
    {
     "data": {
      "text/plain": [
       "<bound method DataFrame.mean of              Total_Sales\n",
       "InvoiceDate             \n",
       "2009-12-01      54513.50\n",
       "2009-12-02      63352.51\n",
       "2009-12-03      74037.91\n",
       "2009-12-04      40732.92\n",
       "2009-12-05       9803.05\n",
       "...                  ...\n",
       "2011-12-05      88741.96\n",
       "2011-12-06      56713.21\n",
       "2011-12-07      75439.16\n",
       "2011-12-08      82495.00\n",
       "2011-12-09     200938.60\n",
       "\n",
       "[739 rows x 1 columns]>"
      ]
     },
     "execution_count": 67,
     "metadata": {},
     "output_type": "execute_result"
    }
   ],
   "source": [
    "(daily_salesx.mean)"
   ]
  },
  {
   "cell_type": "code",
   "execution_count": 68,
   "metadata": {},
   "outputs": [
    {
     "data": {
      "text/plain": [
       "<Axes: xlabel='InvoiceDate'>"
      ]
     },
     "execution_count": 68,
     "metadata": {},
     "output_type": "execute_result"
    },
    {
     "data": {
      "image/png": "[encoded data removed]",
      "text/plain": [
       "<Figure size 864x432 with 1 Axes>"
      ]
     },
     "metadata": {
      "needs_background": "light"
     },
     "output_type": "display_data"
    }
   ],
   "source": [
    "daily_salesx.plot(figsize=(12,6))"
   ]
  },
  {
   "cell_type": "markdown",
   "metadata": {},
   "source": [
    "Implementing TBATS for comparison and estimation "
   ]
  },
  {
   "cell_type": "code",
   "execution_count": 69,
   "metadata": {},
   "outputs": [
    {
     "name": "stdout",
     "output_type": "stream",
     "text": [
      "[ 68381.15414808  86554.65166247 103362.92861657 106665.89950654\n",
      " 101341.3185278  108325.98069735  99718.89316304  68103.9402694\n",
      "  86262.02321135 103054.97218649 106342.70622675 101002.9840364\n",
      " 107972.60511295  99350.58105516  67720.80062753  85864.16941267\n",
      " 102642.52196233 105915.78162778 100561.71139646 107517.11501173\n",
      "  98881.00827951  67237.28413157  85366.85227673 102131.55135054\n",
      " 105391.30874457 100023.8914418  106966.10713519  98316.97553319\n",
      "  66660.39342183  84777.27431481]\n"
     ]
    }
   ],
   "source": [
    "from tbats import TBATS\n",
    "import numpy as np\n",
    "\n",
    "estimator = TBATS(seasonal_periods=[7, 365.25])  # Weekly and yearly seasonality\n",
    "model_tbats = estimator.fit(daily_salesx['Total_Sales'])\n",
    "\n",
    "# Forecast the next 30 days as an example\n",
    "y_forecast_tbats = model_tbats.forecast(steps=30)\n",
    "\n",
    "# Output the forecasted values\n",
    "print(y_forecast_tbats)"
   ]
  },
  {
   "cell_type": "markdown",
   "metadata": {},
   "source": [
    "Implementing ETS for comparison and estimation"
   ]
  },
  {
   "cell_type": "code",
   "execution_count": 70,
   "metadata": {},
   "outputs": [
    {
     "name": "stdout",
     "output_type": "stream",
     "text": [
      "2011-12-10     54336.147330\n",
      "2011-12-11      1615.251875\n",
      "2011-12-12     11907.383568\n",
      "2011-12-13     32742.823063\n",
      "2011-12-14     45094.477897\n",
      "                  ...      \n",
      "2012-12-04     39782.431964\n",
      "2012-12-05     71922.832720\n",
      "2012-12-06    145202.898093\n",
      "2012-12-07     65155.659544\n",
      "2012-12-08     78006.372512\n",
      "Freq: D, Length: 365, dtype: float64\n"
     ]
    },
    {
     "name": "stderr",
     "output_type": "stream",
     "text": [
      "/Library/Frameworks/Python.framework/Versions/3.9/lib/python3.9/site-packages/statsmodels/tsa/holtwinters/model.py:917: ConvergenceWarning: Optimization failed to converge. Check mle_retvals.\n",
      "  warnings.warn(\n"
     ]
    }
   ],
   "source": [
    "from statsmodels.tsa.holtwinters import ExponentialSmoothing\n",
    "\n",
    "# Fit an ETS model (Exponential Smoothing) with additive settings for trend, seasonality, and error\n",
    "model_ets = ExponentialSmoothing(daily_salesx['Total_Sales'], trend='add', seasonal='add', seasonal_periods=365).fit()\n",
    "\n",
    "# Forecast the next 365 days\n",
    "y_forecast_ets = model_ets.forecast(365)\n",
    "\n",
    "# Output the forecasted values\n",
    "print(y_forecast_ets)\n"
   ]
  },
  {
   "cell_type": "code",
   "execution_count": 30,
   "metadata": {},
   "outputs": [
    {
     "name": "stdout",
     "output_type": "stream",
     "text": [
      "Training set size: 591\n",
      "Testing set size: 148\n",
      "\n",
      "Training Data Overview:\n",
      "             Total_Sales\n",
      "InvoiceDate             \n",
      "2009-12-01      44048.69\n",
      "2009-12-02      52941.99\n",
      "2009-12-03      67479.08\n",
      "2009-12-04      34064.41\n",
      "2009-12-05       9803.05\n",
      "...                  ...\n",
      "2011-07-10       5993.87\n",
      "2011-07-11      20080.03\n",
      "2011-07-12      17948.19\n",
      "2011-07-13      19432.85\n",
      "2011-07-14      32020.91\n",
      "\n",
      "[591 rows x 1 columns]\n",
      "\n",
      "Testing Data Overview:\n",
      "             Total_Sales\n",
      "InvoiceDate             \n",
      "2011-07-15      11857.30\n",
      "2011-07-16          0.00\n",
      "2011-07-17      16958.60\n",
      "2011-07-18      22018.36\n",
      "2011-07-19      46599.08\n",
      "...                  ...\n",
      "2011-12-05      58202.21\n",
      "2011-12-06      46144.04\n",
      "2011-12-07      69354.21\n",
      "2011-12-08      50519.41\n",
      "2011-12-09     184367.28\n",
      "\n",
      "[148 rows x 1 columns]\n"
     ]
    }
   ],
   "source": [
    "# Calculate the split index\n",
    "split_index = int(len(daily_salesx) * 0.8)\n",
    "\n",
    "# Split the data into training and testing sets\n",
    "train_daily_sales = daily_salesx.iloc[:split_index]\n",
    "test_daily_sales = daily_salesx.iloc[split_index:]\n",
    "\n",
    "# Print the sizes of each dataset and a quick overview\n",
    "print(\"Training set size:\", len(train_daily_sales))\n",
    "print(\"Testing set size:\", len(test_daily_sales))\n",
    "print(\"\\nTraining Data Overview:\")\n",
    "print(train_daily_sales)\n",
    "print(\"\\nTesting Data Overview:\")\n",
    "print(test_daily_sales)\n",
    "\n",
    "# Reshape the data to fit the scaler requirements ([samples, features])\n",
    "train_daily_sales_reshaped = train_daily_sales.values.reshape(-1, 1)\n",
    "test_daily_sales_reshaped = test_daily_sales.values.reshape(-1, 1)\n",
    "\n"
   ]
  },
  {
   "cell_type": "code",
   "execution_count": 71,
   "metadata": {},
   "outputs": [],
   "source": [
    "from sklearn.preprocessing import MinMaxScaler\n",
    "scaler = MinMaxScaler()\n",
    "scaler.fit(train_daily_sales_reshaped)\n",
    "scaled_train = scaler.transform(train_daily_sales_reshaped)\n",
    "scaled_test = scaler.transform(test_daily_sales_reshaped)"
   ]
  },
  {
   "cell_type": "code",
   "execution_count": 72,
   "metadata": {},
   "outputs": [
    {
     "data": {
      "text/plain": [
       "array([[0.38222297],\n",
       "       [0.45939266],\n",
       "       [0.58553511],\n",
       "       [0.29558654],\n",
       "       [0.08506384],\n",
       "       [0.21329388],\n",
       "       [0.28782228],\n",
       "       [0.38877996],\n",
       "       [0.26998153],\n",
       "       [0.33673379]])"
      ]
     },
     "execution_count": 72,
     "metadata": {},
     "output_type": "execute_result"
    }
   ],
   "source": [
    "scaled_train[:10]"
   ]
  },
  {
   "cell_type": "code",
   "execution_count": 73,
   "metadata": {},
   "outputs": [
    {
     "name": "stdout",
     "output_type": "stream",
     "text": [
      "Given the Array: \n",
      "[0.38222297 0.45939266 0.58553511]\n",
      "Predict this y: \n",
      " [[0.29558654]]\n"
     ]
    }
   ],
   "source": [
    "from keras.preprocessing.sequence import TimeseriesGenerator\n",
    "n_input = 3\n",
    "n_features = 1\n",
    "generator = TimeseriesGenerator(scaled_train, scaled_train, length=n_input, batch_size=1)\n",
    "X,y = generator[0]\n",
    "print(f'Given the Array: \\n{X.flatten()}')\n",
    "print(f'Predict this y: \\n {y}')"
   ]
  },
  {
   "cell_type": "code",
   "execution_count": 74,
   "metadata": {},
   "outputs": [
    {
     "data": {
      "text/plain": [
       "(1, 3, 1)"
      ]
     },
     "execution_count": 74,
     "metadata": {},
     "output_type": "execute_result"
    }
   ],
   "source": [
    "X.shape"
   ]
  },
  {
   "cell_type": "code",
   "execution_count": 75,
   "metadata": {},
   "outputs": [],
   "source": [
    "n_input = 7\n",
    "generator = TimeseriesGenerator(scaled_train, scaled_train, length=n_input, batch_size=1)"
   ]
  },
  {
   "cell_type": "code",
   "execution_count": 76,
   "metadata": {},
   "outputs": [],
   "source": [
    "from keras.models import Sequential\n",
    "from keras.layers import Dense\n",
    "from keras.layers import LSTM"
   ]
  },
  {
   "cell_type": "code",
   "execution_count": 77,
   "metadata": {},
   "outputs": [],
   "source": [
    "modely = Sequential()\n",
    "modely.add(LSTM(100, activation='relu', input_shape=(n_input, n_features)))\n",
    "modely.add(Dense(1))\n",
    "modely.compile(optimizer='adam', loss='mse')"
   ]
  },
  {
   "cell_type": "code",
   "execution_count": 78,
   "metadata": {},
   "outputs": [
    {
     "name": "stdout",
     "output_type": "stream",
     "text": [
      "Model: \"sequential_3\"\n",
      "_________________________________________________________________\n",
      "Layer (type)                 Output Shape              Param #   \n",
      "=================================================================\n",
      "lstm_4 (LSTM)                (None, 100)               40800     \n",
      "_________________________________________________________________\n",
      "dense_3 (Dense)              (None, 1)                 101       \n",
      "=================================================================\n",
      "Total params: 40,901\n",
      "Trainable params: 40,901\n",
      "Non-trainable params: 0\n",
      "_________________________________________________________________\n"
     ]
    }
   ],
   "source": [
    "modely.summary()"
   ]
  },
  {
   "cell_type": "code",
   "execution_count": 79,
   "metadata": {},
   "outputs": [
    {
     "name": "stdout",
     "output_type": "stream",
     "text": [
      "Epoch 1/50\n",
      "584/584 [==============================] - 5s 4ms/step - loss: 0.0200\n",
      "Epoch 2/50\n",
      "584/584 [==============================] - 3s 5ms/step - loss: 0.0185\n",
      "Epoch 3/50\n",
      "584/584 [==============================] - 2s 4ms/step - loss: 0.0168\n",
      "Epoch 4/50\n",
      "584/584 [==============================] - 3s 5ms/step - loss: 0.0145\n",
      "Epoch 5/50\n",
      "584/584 [==============================] - 3s 5ms/step - loss: 0.0139\n",
      "Epoch 6/50\n",
      "584/584 [==============================] - 3s 5ms/step - loss: 0.0136\n",
      "Epoch 7/50\n",
      "584/584 [==============================] - 3s 5ms/step - loss: 0.0125\n",
      "Epoch 8/50\n",
      "584/584 [==============================] - 3s 5ms/step - loss: 0.0120\n",
      "Epoch 9/50\n",
      "584/584 [==============================] - 2s 4ms/step - loss: 0.0118\n",
      "Epoch 10/50\n",
      "584/584 [==============================] - 3s 5ms/step - loss: 0.0119\n",
      "Epoch 11/50\n",
      "584/584 [==============================] - 3s 5ms/step - loss: 0.0113\n",
      "Epoch 12/50\n",
      "584/584 [==============================] - 3s 5ms/step - loss: 0.0110\n",
      "Epoch 13/50\n",
      "584/584 [==============================] - 3s 5ms/step - loss: 0.0110\n",
      "Epoch 14/50\n",
      "584/584 [==============================] - 3s 4ms/step - loss: 0.0111\n",
      "Epoch 15/50\n",
      "584/584 [==============================] - 2s 3ms/step - loss: 0.0108\n",
      "Epoch 16/50\n",
      "584/584 [==============================] - 3s 4ms/step - loss: 0.0105\n",
      "Epoch 17/50\n",
      "584/584 [==============================] - 2s 4ms/step - loss: 0.0103\n",
      "Epoch 18/50\n",
      "584/584 [==============================] - 2s 4ms/step - loss: 0.0104\n",
      "Epoch 19/50\n",
      "584/584 [==============================] - 3s 4ms/step - loss: 0.0105\n",
      "Epoch 20/50\n",
      "584/584 [==============================] - 2s 4ms/step - loss: 0.0101\n",
      "Epoch 21/50\n",
      "584/584 [==============================] - 3s 5ms/step - loss: 0.0100\n",
      "Epoch 22/50\n",
      "584/584 [==============================] - 2s 4ms/step - loss: 0.0101\n",
      "Epoch 23/50\n",
      "584/584 [==============================] - 2s 4ms/step - loss: 0.0099\n",
      "Epoch 24/50\n",
      "584/584 [==============================] - 2s 4ms/step - loss: 0.0100\n",
      "Epoch 25/50\n",
      "584/584 [==============================] - 2s 4ms/step - loss: 0.0098\n",
      "Epoch 26/50\n",
      "584/584 [==============================] - 2s 4ms/step - loss: 0.0095\n",
      "Epoch 27/50\n",
      "584/584 [==============================] - 2s 4ms/step - loss: 0.0097\n",
      "Epoch 28/50\n",
      "584/584 [==============================] - 3s 5ms/step - loss: 0.0095\n",
      "Epoch 29/50\n",
      "584/584 [==============================] - 2s 4ms/step - loss: 0.0094\n",
      "Epoch 30/50\n",
      "584/584 [==============================] - 2s 4ms/step - loss: 0.0092\n",
      "Epoch 31/50\n",
      "584/584 [==============================] - 2s 4ms/step - loss: 0.0093\n",
      "Epoch 32/50\n",
      "584/584 [==============================] - 3s 4ms/step - loss: 0.0094\n",
      "Epoch 33/50\n",
      "584/584 [==============================] - 2s 3ms/step - loss: 0.0093\n",
      "Epoch 34/50\n",
      "584/584 [==============================] - 2s 4ms/step - loss: 0.0093\n",
      "Epoch 35/50\n",
      "584/584 [==============================] - 2s 4ms/step - loss: 0.0091\n",
      "Epoch 36/50\n",
      "584/584 [==============================] - 2s 4ms/step - loss: 0.0092\n",
      "Epoch 37/50\n",
      "584/584 [==============================] - 2s 4ms/step - loss: 0.0090\n",
      "Epoch 38/50\n",
      "584/584 [==============================] - 2s 4ms/step - loss: 0.0090\n",
      "Epoch 39/50\n",
      "584/584 [==============================] - 2s 4ms/step - loss: 0.0088\n",
      "Epoch 40/50\n",
      "584/584 [==============================] - 2s 4ms/step - loss: 0.0090\n",
      "Epoch 41/50\n",
      "584/584 [==============================] - 3s 5ms/step - loss: 0.0089\n",
      "Epoch 42/50\n",
      "584/584 [==============================] - 2s 4ms/step - loss: 0.0088\n",
      "Epoch 43/50\n",
      "584/584 [==============================] - 2s 4ms/step - loss: 0.0087\n",
      "Epoch 44/50\n",
      "584/584 [==============================] - 2s 3ms/step - loss: 0.0085\n",
      "Epoch 45/50\n",
      "584/584 [==============================] - 3s 4ms/step - loss: 0.0086\n",
      "Epoch 46/50\n",
      "584/584 [==============================] - 2s 4ms/step - loss: 0.0086\n",
      "Epoch 47/50\n",
      "584/584 [==============================] - 2s 4ms/step - loss: 0.0087\n",
      "Epoch 48/50\n",
      "584/584 [==============================] - 2s 4ms/step - loss: 0.0090\n",
      "Epoch 49/50\n",
      "584/584 [==============================] - 3s 4ms/step - loss: 0.0085\n",
      "Epoch 50/50\n",
      "584/584 [==============================] - 2s 4ms/step - loss: 0.0085\n"
     ]
    },
    {
     "data": {
      "text/plain": [
       "<keras.callbacks.History at 0x7fb9b2462b80>"
      ]
     },
     "execution_count": 79,
     "metadata": {},
     "output_type": "execute_result"
    }
   ],
   "source": [
    "# fit model\n",
    "modely.fit(generator,epochs=50)"
   ]
  },
  {
   "cell_type": "code",
   "execution_count": 80,
   "metadata": {},
   "outputs": [
    {
     "data": {
      "text/plain": [
       "[<matplotlib.lines.Line2D at 0x7fb9b3fe1640>]"
      ]
     },
     "execution_count": 80,
     "metadata": {},
     "output_type": "execute_result"
    },
    {
     "data": {
      "image/png": "[encoded data removed]",
      "text/plain": [
       "<Figure size 432x288 with 1 Axes>"
      ]
     },
     "metadata": {
      "needs_background": "light"
     },
     "output_type": "display_data"
    }
   ],
   "source": [
    "loss_per_epoch = modely.history.history['loss']\n",
    "plt.plot(range(len(loss_per_epoch)),loss_per_epoch)"
   ]
  },
  {
   "cell_type": "code",
   "execution_count": 81,
   "metadata": {},
   "outputs": [],
   "source": [
    "\n",
    "last_train_batch = scaled_train[-7:]\n"
   ]
  },
  {
   "cell_type": "code",
   "execution_count": 82,
   "metadata": {},
   "outputs": [
    {
     "name": "stdout",
     "output_type": "stream",
     "text": [
      "[[0.15235835]\n",
      " [0.        ]\n",
      " [0.05201051]\n",
      " [0.17424011]\n",
      " [0.15574153]\n",
      " [0.16862435]\n",
      " [0.27785451]]\n"
     ]
    }
   ],
   "source": [
    "print(last_train_batch)"
   ]
  },
  {
   "cell_type": "code",
   "execution_count": 83,
   "metadata": {},
   "outputs": [],
   "source": [
    "last_train_batch = last_train_batch.reshape((1, n_input, n_features))"
   ]
  },
  {
   "cell_type": "code",
   "execution_count": 84,
   "metadata": {},
   "outputs": [
    {
     "data": {
      "text/plain": [
       "array([[0.2175216]], dtype=float32)"
      ]
     },
     "execution_count": 84,
     "metadata": {},
     "output_type": "execute_result"
    }
   ],
   "source": [
    "modely.predict(last_train_batch)"
   ]
  },
  {
   "cell_type": "code",
   "execution_count": 85,
   "metadata": {},
   "outputs": [
    {
     "data": {
      "text/plain": [
       "array([0.10288915])"
      ]
     },
     "execution_count": 85,
     "metadata": {},
     "output_type": "execute_result"
    }
   ],
   "source": [
    "scaled_test[0]"
   ]
  },
  {
   "cell_type": "code",
   "execution_count": 86,
   "metadata": {},
   "outputs": [],
   "source": [
    "test_predictionsx = []\n",
    "\n",
    "first_eval_batch = scaled_train[-n_input:]\n",
    "current_batch = first_eval_batch.reshape((1, n_input, n_features))\n",
    "\n",
    "for i in range(len(test_daily_sales_reshaped)):\n",
    "    \n",
    "    # get the prediction value for the first batch\n",
    "    current_pred = modely.predict(current_batch)[0]\n",
    "    \n",
    "    # append the prediction into the array\n",
    "    test_predictionsx.append(current_pred) \n",
    "    \n",
    "    # use the prediction to update the batch and remove the first value\n",
    "    current_batch = np.append(current_batch[:,1:,:],[[current_pred]],axis=1)"
   ]
  },
  {
   "cell_type": "code",
   "execution_count": 87,
   "metadata": {},
   "outputs": [
    {
     "data": {
      "text/plain": [
       "[array([0.2175216], dtype=float32),\n",
       " array([0.00971211], dtype=float32),\n",
       " array([0.12121044], dtype=float32),\n",
       " array([0.21197347], dtype=float32),\n",
       " array([0.23610559], dtype=float32),\n",
       " array([0.2500916], dtype=float32),\n",
       " array([0.27659595], dtype=float32),\n",
       " array([0.23528174], dtype=float32),\n",
       " array([0.01984464], dtype=float32),\n",
       " array([0.15776366], dtype=float32),\n",
       " array([0.21868128], dtype=float32),\n",
       " array([0.25138393], dtype=float32),\n",
       " array([0.26794815], dtype=float32),\n",
       " array([0.2813479], dtype=float32),\n",
       " array([0.23940992], dtype=float32),\n",
       " array([0.02426785], dtype=float32),\n",
       " array([0.16116808], dtype=float32),\n",
       " array([0.2181537], dtype=float32),\n",
       " array([0.2535557], dtype=float32),\n",
       " array([0.2728381], dtype=float32),\n",
       " array([0.28284132], dtype=float32),\n",
       " array([0.23938924], dtype=float32),\n",
       " array([0.02949624], dtype=float32),\n",
       " array([0.16166165], dtype=float32),\n",
       " array([0.21356928], dtype=float32),\n",
       " array([0.2478936], dtype=float32),\n",
       " array([0.2679482], dtype=float32),\n",
       " array([0.2772918], dtype=float32),\n",
       " array([0.23423311], dtype=float32),\n",
       " array([0.03708794], dtype=float32),\n",
       " array([0.16010931], dtype=float32),\n",
       " array([0.20370612], dtype=float32),\n",
       " array([0.23303679], dtype=float32),\n",
       " array([0.25247225], dtype=float32),\n",
       " array([0.26149654], dtype=float32),\n",
       " array([0.22218964], dtype=float32),\n",
       " array([0.04794892], dtype=float32),\n",
       " array([0.15607162], dtype=float32),\n",
       " array([0.18782681], dtype=float32),\n",
       " array([0.20920867], dtype=float32),\n",
       " array([0.22539803], dtype=float32),\n",
       " array([0.23335996], dtype=float32),\n",
       " array([0.20269018], dtype=float32),\n",
       " array([0.06636497], dtype=float32),\n",
       " array([0.14981425], dtype=float32),\n",
       " array([0.16588873], dtype=float32),\n",
       " array([0.17720634], dtype=float32),\n",
       " array([0.190296], dtype=float32),\n",
       " array([0.19747281], dtype=float32),\n",
       " array([0.17842871], dtype=float32),\n",
       " array([0.1042094], dtype=float32),\n",
       " array([0.15809397], dtype=float32),\n",
       " array([0.15948996], dtype=float32),\n",
       " array([0.15820627], dtype=float32),\n",
       " array([0.15746471], dtype=float32),\n",
       " array([0.16171938], dtype=float32),\n",
       " array([0.15797639], dtype=float32),\n",
       " array([0.15436184], dtype=float32),\n",
       " array([0.16055991], dtype=float32),\n",
       " array([0.16074187], dtype=float32),\n",
       " array([0.16096386], dtype=float32),\n",
       " array([0.16109172], dtype=float32),\n",
       " array([0.16042821], dtype=float32),\n",
       " array([0.16076723], dtype=float32),\n",
       " array([0.1613487], dtype=float32),\n",
       " array([0.16060725], dtype=float32),\n",
       " array([0.16054654], dtype=float32),\n",
       " array([0.16050926], dtype=float32),\n",
       " array([0.1604845], dtype=float32),\n",
       " array([0.16058117], dtype=float32),\n",
       " array([0.16055861], dtype=float32),\n",
       " array([0.16047174], dtype=float32),\n",
       " array([0.16055846], dtype=float32),\n",
       " array([0.16056994], dtype=float32),\n",
       " array([0.16057587], dtype=float32),\n",
       " array([0.16058056], dtype=float32),\n",
       " array([0.16056722], dtype=float32),\n",
       " array([0.16056716], dtype=float32),\n",
       " array([0.1605795], dtype=float32),\n",
       " array([0.16056956], dtype=float32),\n",
       " array([0.16056778], dtype=float32),\n",
       " array([0.1605669], dtype=float32),\n",
       " array([0.16056606], dtype=float32),\n",
       " array([0.16056779], dtype=float32),\n",
       " array([0.16056821], dtype=float32),\n",
       " array([0.16056654], dtype=float32),\n",
       " array([0.16056764], dtype=float32),\n",
       " array([0.16056791], dtype=float32),\n",
       " array([0.16056803], dtype=float32),\n",
       " array([0.16056815], dtype=float32),\n",
       " array([0.16056794], dtype=float32),\n",
       " array([0.16056783], dtype=float32),\n",
       " array([0.16056806], dtype=float32),\n",
       " array([0.16056794], dtype=float32),\n",
       " array([0.16056791], dtype=float32),\n",
       " array([0.16056788], dtype=float32),\n",
       " array([0.16056785], dtype=float32),\n",
       " array([0.16056788], dtype=float32),\n",
       " array([0.16056791], dtype=float32),\n",
       " array([0.16056788], dtype=float32),\n",
       " array([0.16056788], dtype=float32),\n",
       " array([0.1605679], dtype=float32),\n",
       " array([0.16056791], dtype=float32),\n",
       " array([0.16056791], dtype=float32),\n",
       " array([0.16056791], dtype=float32),\n",
       " array([0.1605679], dtype=float32),\n",
       " array([0.16056791], dtype=float32),\n",
       " array([0.16056791], dtype=float32),\n",
       " array([0.1605679], dtype=float32),\n",
       " array([0.1605679], dtype=float32),\n",
       " array([0.1605679], dtype=float32),\n",
       " array([0.16056788], dtype=float32),\n",
       " array([0.16056791], dtype=float32),\n",
       " array([0.1605679], dtype=float32),\n",
       " array([0.1605679], dtype=float32),\n",
       " array([0.16056791], dtype=float32),\n",
       " array([0.16056791], dtype=float32),\n",
       " array([0.16056791], dtype=float32),\n",
       " array([0.16056791], dtype=float32),\n",
       " array([0.16056788], dtype=float32),\n",
       " array([0.16056791], dtype=float32),\n",
       " array([0.16056791], dtype=float32),\n",
       " array([0.1605679], dtype=float32),\n",
       " array([0.1605679], dtype=float32),\n",
       " array([0.1605679], dtype=float32),\n",
       " array([0.1605679], dtype=float32),\n",
       " array([0.16056791], dtype=float32),\n",
       " array([0.1605679], dtype=float32),\n",
       " array([0.1605679], dtype=float32),\n",
       " array([0.16056791], dtype=float32),\n",
       " array([0.16056791], dtype=float32),\n",
       " array([0.16056791], dtype=float32),\n",
       " array([0.16056791], dtype=float32),\n",
       " array([0.16056788], dtype=float32),\n",
       " array([0.16056791], dtype=float32),\n",
       " array([0.16056791], dtype=float32),\n",
       " array([0.1605679], dtype=float32),\n",
       " array([0.1605679], dtype=float32),\n",
       " array([0.1605679], dtype=float32),\n",
       " array([0.1605679], dtype=float32),\n",
       " array([0.16056791], dtype=float32),\n",
       " array([0.1605679], dtype=float32),\n",
       " array([0.1605679], dtype=float32),\n",
       " array([0.16056791], dtype=float32),\n",
       " array([0.16056791], dtype=float32),\n",
       " array([0.16056791], dtype=float32),\n",
       " array([0.16056791], dtype=float32),\n",
       " array([0.16056788], dtype=float32)]"
      ]
     },
     "execution_count": 87,
     "metadata": {},
     "output_type": "execute_result"
    }
   ],
   "source": [
    "test_predictionsx"
   ]
  },
  {
   "cell_type": "code",
   "execution_count": 88,
   "metadata": {},
   "outputs": [
    {
     "name": "stdout",
     "output_type": "stream",
     "text": [
      "[[0.10288915]\n",
      " [0.        ]\n",
      " [0.14715458]\n",
      " [0.19105955]\n",
      " [0.40435343]\n",
      " [0.23495454]\n",
      " [0.26374352]\n",
      " [0.12698137]\n",
      " [0.        ]\n",
      " [0.23252447]\n",
      " [0.17083237]\n",
      " [0.15005627]\n",
      " [0.19832209]\n",
      " [0.47029462]\n",
      " [0.14960166]\n",
      " [0.        ]\n",
      " [0.28976304]\n",
      " [0.1718831 ]\n",
      " [0.17594971]\n",
      " [0.23096994]\n",
      " [0.53868238]\n",
      " [0.17203062]\n",
      " [0.        ]\n",
      " [0.06574743]\n",
      " [0.17145115]\n",
      " [0.22523729]\n",
      " [0.17234439]\n",
      " [0.47192422]\n",
      " [0.15593226]\n",
      " [0.        ]\n",
      " [0.04962165]\n",
      " [0.14963082]\n",
      " [0.13951198]\n",
      " [0.42318799]\n",
      " [0.46929187]\n",
      " [0.15046054]\n",
      " [0.        ]\n",
      " [0.1264006 ]\n",
      " [0.25704873]\n",
      " [0.19436343]\n",
      " [0.33509074]\n",
      " [0.19519801]\n",
      " [0.20922354]\n",
      " [0.        ]\n",
      " [0.09375831]\n",
      " [0.        ]\n",
      " [0.07665261]\n",
      " [0.17823869]\n",
      " [0.32427139]\n",
      " [0.26289609]\n",
      " [0.        ]\n",
      " [0.14755747]\n",
      " [0.30976774]\n",
      " [0.22123446]\n",
      " [0.19061753]\n",
      " [0.20121145]\n",
      " [0.21816556]\n",
      " [0.        ]\n",
      " [0.30814483]\n",
      " [0.24287196]\n",
      " [0.4179175 ]\n",
      " [0.19114277]\n",
      " [0.62470948]\n",
      " [0.20173799]\n",
      " [0.        ]\n",
      " [0.13663016]\n",
      " [0.40442406]\n",
      " [0.89754185]\n",
      " [0.33410197]\n",
      " [0.50214884]\n",
      " [0.27577361]\n",
      " [0.        ]\n",
      " [0.27222947]\n",
      " [0.25450335]\n",
      " [0.25402192]\n",
      " [0.33891638]\n",
      " [0.38812942]\n",
      " [0.34738151]\n",
      " [0.        ]\n",
      " [0.10050854]\n",
      " [0.54038607]\n",
      " [0.33572583]\n",
      " [0.64305986]\n",
      " [0.52400206]\n",
      " [0.42681536]\n",
      " [0.        ]\n",
      " [0.10817804]\n",
      " [0.37382015]\n",
      " [0.40294502]\n",
      " [0.24063296]\n",
      " [0.28669033]\n",
      " [0.27875496]\n",
      " [0.        ]\n",
      " [0.19099534]\n",
      " [0.40787779]\n",
      " [0.3236835 ]\n",
      " [0.32395354]\n",
      " [0.52987016]\n",
      " [0.52425769]\n",
      " [0.        ]\n",
      " [0.10707039]\n",
      " [0.34114983]\n",
      " [0.31442961]\n",
      " [0.29880503]\n",
      " [0.48451469]\n",
      " [0.32358085]\n",
      " [0.        ]\n",
      " [0.29998436]\n",
      " [0.28677181]\n",
      " [0.25279365]\n",
      " [0.33611197]\n",
      " [0.5264691 ]\n",
      " [0.48678901]\n",
      " [0.        ]\n",
      " [0.37261418]\n",
      " [0.24972562]\n",
      " [0.33229761]\n",
      " [0.53355905]\n",
      " [0.61186381]\n",
      " [0.32176556]\n",
      " [0.        ]\n",
      " [0.24823782]\n",
      " [0.51003085]\n",
      " [0.41415806]\n",
      " [0.42032553]\n",
      " [0.48493259]\n",
      " [0.31890102]\n",
      " [0.        ]\n",
      " [0.26197517]\n",
      " [0.39336842]\n",
      " [0.43095633]\n",
      " [0.62459026]\n",
      " [0.33476187]\n",
      " [0.23146359]\n",
      " [0.        ]\n",
      " [0.15012533]\n",
      " [0.44975809]\n",
      " [0.42389988]\n",
      " [0.35994439]\n",
      " [0.38643406]\n",
      " [0.38799336]\n",
      " [0.        ]\n",
      " [0.17680798]\n",
      " [0.50503708]\n",
      " [0.40040492]\n",
      " [0.60180614]\n",
      " [0.43837124]\n",
      " [1.59980716]]\n"
     ]
    }
   ],
   "source": [
    "print(scaled_test)"
   ]
  },
  {
   "cell_type": "code",
   "execution_count": 89,
   "metadata": {},
   "outputs": [
    {
     "name": "stdout",
     "output_type": "stream",
     "text": [
      "[[ 11857.3  ]\n",
      " [     0.   ]\n",
      " [ 16958.6  ]\n",
      " [ 22018.36 ]\n",
      " [ 46599.08 ]\n",
      " [ 27076.97 ]\n",
      " [ 30394.71 ]\n",
      " [ 14633.77 ]\n",
      " [     0.   ]\n",
      " [ 26796.92 ]\n",
      " [ 19687.31 ]\n",
      " [ 17293.001]\n",
      " [ 22855.32 ]\n",
      " [ 54198.37 ]\n",
      " [ 17240.61 ]\n",
      " [     0.   ]\n",
      " [ 33393.29 ]\n",
      " [ 19808.4  ]\n",
      " [ 20277.05 ]\n",
      " [ 26617.77 ]\n",
      " [ 62079.61 ]\n",
      " [ 19825.4  ]\n",
      " [     0.   ]\n",
      " [  7576.96 ]\n",
      " [ 19758.62 ]\n",
      " [ 25957.12 ]\n",
      " [ 19861.56 ]\n",
      " [ 54386.17 ]\n",
      " [ 17970.17 ]\n",
      " [     0.   ]\n",
      " [  5718.57 ]\n",
      " [ 17243.97 ]\n",
      " [ 16077.84 ]\n",
      " [ 48769.64 ]\n",
      " [ 54082.81 ]\n",
      " [ 17339.59 ]\n",
      " [     0.   ]\n",
      " [ 14566.84 ]\n",
      " [ 29623.18 ]\n",
      " [ 22399.11 ]\n",
      " [ 38617.01 ]\n",
      " [ 22495.29 ]\n",
      " [ 24111.64 ]\n",
      " [     0.   ]\n",
      " [ 10805.03 ]\n",
      " [     0.   ]\n",
      " [  8833.71 ]\n",
      " [ 20540.84 ]\n",
      " [ 37370.15 ]\n",
      " [ 30297.05 ]\n",
      " [     0.   ]\n",
      " [ 17005.03 ]\n",
      " [ 35698.7  ]\n",
      " [ 25495.82 ]\n",
      " [ 21967.42 ]\n",
      " [ 23188.3  ]\n",
      " [ 25142.15 ]\n",
      " [     0.   ]\n",
      " [ 35511.67 ]\n",
      " [ 27989.4  ]\n",
      " [ 48162.25 ]\n",
      " [ 22027.95 ]\n",
      " [ 71993.67 ]\n",
      " [ 23248.98 ]\n",
      " [     0.   ]\n",
      " [ 15745.73 ]\n",
      " [ 46607.22 ]\n",
      " [103435.81 ]\n",
      " [ 38503.06 ]\n",
      " [ 57869.36 ]\n",
      " [ 31781.1  ]\n",
      " [     0.   ]\n",
      " [ 31372.661]\n",
      " [ 29329.841]\n",
      " [ 29274.36 ]\n",
      " [ 39057.89 ]\n",
      " [ 44729.37 ]\n",
      " [ 40033.44 ]\n",
      " [     0.   ]\n",
      " [ 11582.95 ]\n",
      " [ 62275.95 ]\n",
      " [ 38690.2  ]\n",
      " [ 74108.43 ]\n",
      " [ 60387.8  ]\n",
      " [ 49187.67 ]\n",
      " [     0.   ]\n",
      " [ 12466.81 ]\n",
      " [ 43080.32 ]\n",
      " [ 46436.77 ]\n",
      " [ 27731.37 ]\n",
      " [ 33039.18 ]\n",
      " [ 32124.68 ]\n",
      " [     0.   ]\n",
      " [ 22010.96 ]\n",
      " [ 47005.24 ]\n",
      " [ 37302.4  ]\n",
      " [ 37333.52 ]\n",
      " [ 61064.06 ]\n",
      " [ 60417.26 ]\n",
      " [     0.   ]\n",
      " [ 12339.16 ]\n",
      " [ 39315.28 ]\n",
      " [ 36235.95 ]\n",
      " [ 34435.32 ]\n",
      " [ 55837.14 ]\n",
      " [ 37290.57 ]\n",
      " [     0.   ]\n",
      " [ 34571.23 ]\n",
      " [ 33048.57 ]\n",
      " [ 29132.81 ]\n",
      " [ 38734.7  ]\n",
      " [ 60672.11 ]\n",
      " [ 56099.24 ]\n",
      " [     0.   ]\n",
      " [ 42941.34 ]\n",
      " [ 28779.24 ]\n",
      " [ 38295.12 ]\n",
      " [ 61489.18 ]\n",
      " [ 70513.29 ]\n",
      " [ 37081.37 ]\n",
      " [     0.   ]\n",
      " [ 28607.78 ]\n",
      " [ 58777.71 ]\n",
      " [ 47729.   ]\n",
      " [ 48439.76 ]\n",
      " [ 55885.3  ]\n",
      " [ 36751.25 ]\n",
      " [     0.   ]\n",
      " [ 30190.92 ]\n",
      " [ 45333.13 ]\n",
      " [ 49664.89 ]\n",
      " [ 71979.93 ]\n",
      " [ 38579.11 ]\n",
      " [ 26674.66 ]\n",
      " [     0.   ]\n",
      " [ 17300.96 ]\n",
      " [ 51831.67 ]\n",
      " [ 48851.68 ]\n",
      " [ 41481.23 ]\n",
      " [ 44533.99 ]\n",
      " [ 44713.69 ]\n",
      " [     0.   ]\n",
      " [ 20375.96 ]\n",
      " [ 58202.21 ]\n",
      " [ 46144.04 ]\n",
      " [ 69354.21 ]\n",
      " [ 50519.41 ]\n",
      " [184367.28 ]]\n"
     ]
    }
   ],
   "source": [
    "true_test = scaler.inverse_transform(scaled_test)\n",
    "print(true_test)"
   ]
  },
  {
   "cell_type": "code",
   "execution_count": 93,
   "metadata": {},
   "outputs": [
    {
     "name": "stdout",
     "output_type": "stream",
     "text": [
      "[[25067.93664868]\n",
      " [ 1119.25753423]\n",
      " [13968.70818399]\n",
      " [24428.55226678]\n",
      " [27209.62051684]\n",
      " [28821.4177211 ]\n",
      " [31875.86878266]\n",
      " [27114.67658647]\n",
      " [ 2286.96501382]\n",
      " [18181.2268801 ]\n",
      " [25201.58249192]\n",
      " [28970.34890517]\n",
      " [30879.26662079]\n",
      " [32423.49990527]\n",
      " [27590.42316044]\n",
      " [ 2796.7107812 ]\n",
      " [18573.56436634]\n",
      " [25140.78286352]\n",
      " [29220.62940343]\n",
      " [31442.79958096]\n",
      " [32595.60724483]\n",
      " [27588.03960207]\n",
      " [ 3399.24789219]\n",
      " [18630.44520496]\n",
      " [24612.45890719]\n",
      " [28568.11140882]\n",
      " [30879.27348983]\n",
      " [31956.06144039]\n",
      " [26993.82949003]\n",
      " [ 4274.14175119]\n",
      " [18451.54781511]\n",
      " [23475.79349744]\n",
      " [26855.96090181]\n",
      " [29095.77078511]\n",
      " [30135.76126534]\n",
      " [25605.89787417]\n",
      " [ 5525.7979678 ]\n",
      " [17986.23016766]\n",
      " [21645.80796992]\n",
      " [24109.92649497]\n",
      " [25975.64479096]\n",
      " [26893.20486003]\n",
      " [23358.7140718 ]\n",
      " [ 7648.12701569]\n",
      " [17265.10931033]\n",
      " [19117.58752343]\n",
      " [20421.86791776]\n",
      " [21930.36499925]\n",
      " [22757.44601675]\n",
      " [20562.73827835]\n",
      " [12009.44981856]\n",
      " [18219.29340637]\n",
      " [18380.17157575]\n",
      " [18232.23468584]\n",
      " [18146.77518839]\n",
      " [18637.09787437]\n",
      " [18205.74249922]\n",
      " [17789.18991454]\n",
      " [18503.47607279]\n",
      " [18524.44554779]\n",
      " [18550.0293033 ]\n",
      " [18564.76340333]\n",
      " [18488.2989194 ]\n",
      " [18527.36832614]\n",
      " [18594.37928784]\n",
      " [18508.93181123]\n",
      " [18501.9356896 ]\n",
      " [18497.63910239]\n",
      " [18494.78501448]\n",
      " [18505.92660434]\n",
      " [18503.32667107]\n",
      " [18493.315039  ]\n",
      " [18503.30949846]\n",
      " [18504.63178949]\n",
      " [18505.3152594 ]\n",
      " [18505.85619664]\n",
      " [18504.31924798]\n",
      " [18504.31237893]\n",
      " [18505.7342711 ]\n",
      " [18504.58885796]\n",
      " [18504.38278664]\n",
      " [18504.28146823]\n",
      " [18504.18530161]\n",
      " [18504.3845039 ]\n",
      " [18504.43258721]\n",
      " [18504.24025397]\n",
      " [18504.36733129]\n",
      " [18504.39824198]\n",
      " [18504.41198007]\n",
      " [18504.42571816]\n",
      " [18504.40167651]\n",
      " [18504.38965568]\n",
      " [18504.4154146 ]\n",
      " [18504.40167651]\n",
      " [18504.39824198]\n",
      " [18504.39480746]\n",
      " [18504.39137294]\n",
      " [18504.39480746]\n",
      " [18504.39824198]\n",
      " [18504.39480746]\n",
      " [18504.39480746]\n",
      " [18504.39652472]\n",
      " [18504.39824198]\n",
      " [18504.39824198]\n",
      " [18504.39824198]\n",
      " [18504.39652472]\n",
      " [18504.39824198]\n",
      " [18504.39824198]\n",
      " [18504.39652472]\n",
      " [18504.39652472]\n",
      " [18504.39652472]\n",
      " [18504.39480746]\n",
      " [18504.39824198]\n",
      " [18504.39652472]\n",
      " [18504.39652472]\n",
      " [18504.39824198]\n",
      " [18504.39824198]\n",
      " [18504.39824198]\n",
      " [18504.39824198]\n",
      " [18504.39480746]\n",
      " [18504.39824198]\n",
      " [18504.39824198]\n",
      " [18504.39652472]\n",
      " [18504.39652472]\n",
      " [18504.39652472]\n",
      " [18504.39652472]\n",
      " [18504.39824198]\n",
      " [18504.39652472]\n",
      " [18504.39652472]\n",
      " [18504.39824198]\n",
      " [18504.39824198]\n",
      " [18504.39824198]\n",
      " [18504.39824198]\n",
      " [18504.39480746]\n",
      " [18504.39824198]\n",
      " [18504.39824198]\n",
      " [18504.39652472]\n",
      " [18504.39652472]\n",
      " [18504.39652472]\n",
      " [18504.39652472]\n",
      " [18504.39824198]\n",
      " [18504.39652472]\n",
      " [18504.39652472]\n",
      " [18504.39824198]\n",
      " [18504.39824198]\n",
      " [18504.39824198]\n",
      " [18504.39824198]\n",
      " [18504.39480746]]\n"
     ]
    }
   ],
   "source": [
    "true_predictions = scaler.inverse_transform(test_predictionsx)\n",
    "print(true_predictions)"
   ]
  },
  {
   "cell_type": "code",
   "execution_count": 95,
   "metadata": {},
   "outputs": [],
   "source": [
    "# Flatten the predictions into a list or a 1D numpy array\n",
    "flattened_predictions = [item[0] for item in test_predictionsx]\n"
   ]
  },
  {
   "cell_type": "code",
   "execution_count": 96,
   "metadata": {},
   "outputs": [
    {
     "name": "stdout",
     "output_type": "stream",
     "text": [
      "     True Values  Predictions\n",
      "0       0.102889     0.217522\n",
      "1       0.000000     0.009712\n",
      "2       0.147155     0.121210\n",
      "3       0.191060     0.211973\n",
      "4       0.404353     0.236106\n",
      "..           ...          ...\n",
      "143     0.505037     0.160568\n",
      "144     0.400405     0.160568\n",
      "145     0.601806     0.160568\n",
      "146     0.438371     0.160568\n",
      "147     1.599807     0.160568\n",
      "\n",
      "[148 rows x 2 columns]\n"
     ]
    }
   ],
   "source": [
    "import pandas as pd\n",
    "import matplotlib.pyplot as plt\n",
    "\n",
    "# Flatten the actual values to match the flattened predictions\n",
    "flattened_true_values = scaled_test.flatten()\n",
    "\n",
    "# Create a DataFrame from the true values and predictions\n",
    "comparison_df = pd.DataFrame({\n",
    "    'True Values': flattened_true_values,\n",
    "    'Predictions': flattened_predictions\n",
    "})\n",
    "\n",
    "# Display the DataFrame to ensure correctness\n",
    "print(comparison_df)\n"
   ]
  },
  {
   "cell_type": "markdown",
   "metadata": {},
   "source": [
    "***THE END***"
   ]
  }
 ],
 "metadata": {
  "kernelspec": {
   "display_name": "Python 3 (ipykernel)",
   "language": "python",
   "name": "python3"
  },
  "language_info": {
   "codemirror_mode": {
    "name": "ipython",
    "version": 3
   },
   "file_extension": ".py",
   "mimetype": "text/x-python",
   "name": "python",
   "nbconvert_exporter": "python",
   "pygments_lexer": "ipython3",
   "version": "3.9.6"
  }
 },
 "nbformat": 4,
 "nbformat_minor": 2
}
